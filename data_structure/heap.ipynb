{
 "cells": [
  {
   "cell_type": "markdown",
   "metadata": {},
   "source": [
    "## Heap 클래스 구현"
   ]
  },
  {
   "cell_type": "code",
   "execution_count": 1,
   "metadata": {},
   "outputs": [],
   "source": [
    "class Heap:\n",
    "    def __init__(self, data):\n",
    "        self.heap_array = list()\n",
    "        self.heap_array.append(None) # root 노드를 1번 인덱스로 사용하기 위해서\n",
    "        self.heap_array.append(data)"
   ]
  },
  {
   "cell_type": "code",
   "execution_count": 2,
   "metadata": {},
   "outputs": [
    {
     "data": {
      "text/plain": [
       "[None, 1]"
      ]
     },
     "execution_count": 2,
     "metadata": {},
     "output_type": "execute_result"
    }
   ],
   "source": [
    "heap = Heap(1)\n",
    "heap.heap_array"
   ]
  },
  {
   "cell_type": "markdown",
   "metadata": {},
   "source": [
    "## Heap 데이터 삽입 구현"
   ]
  },
  {
   "cell_type": "markdown",
   "metadata": {},
   "source": [
    "### Heap 데이터 삽입 기본 동작"
   ]
  },
  {
   "cell_type": "code",
   "execution_count": 3,
   "metadata": {},
   "outputs": [],
   "source": [
    "class Heap:\n",
    "    def __init__(self, data):\n",
    "        self.heap_array = list()\n",
    "        self.heap_array.append(None)\n",
    "        self.heap_array.append(data)\n",
    "\n",
    "    # 데이터 삽입 함수\n",
    "    def insert(self, data):\n",
    "        # 만약 heap이 비어있는 경우\n",
    "        if len(self.heap_array) == 0:\n",
    "            self.heap_array.append(None)\n",
    "            self.heap_array.append(data)\n",
    "            return True\n",
    "        # heap에 데이터 삽입 기본 동작\n",
    "        self.heap_array.append(data)\n",
    "        return True"
   ]
  },
  {
   "cell_type": "code",
   "execution_count": 4,
   "metadata": {},
   "outputs": [
    {
     "data": {
      "text/plain": [
       "[None, 15, 10, 8, 5, 4]"
      ]
     },
     "execution_count": 4,
     "metadata": {},
     "output_type": "execute_result"
    }
   ],
   "source": [
    "heap = Heap(15)\n",
    "heap.insert(10)\n",
    "heap.insert(8)\n",
    "heap.insert(5)\n",
    "heap.insert(4)\n",
    "heap.heap_array"
   ]
  },
  {
   "cell_type": "markdown",
   "metadata": {},
   "source": [
    "### Heap 데이터 삽입 후 Swap"
   ]
  },
  {
   "cell_type": "code",
   "execution_count": 6,
   "metadata": {},
   "outputs": [],
   "source": [
    "class Heap:\n",
    "    def __init__(self, data):\n",
    "        self.heap_array = list()\n",
    "        self.heap_array.append(None)\n",
    "        self.heap_array.append(data)\n",
    "\n",
    "    # Swap이 필요한지 판단하는 함수\n",
    "    def move_up(self, inserted_idx):\n",
    "        # Root 노드의 경우에는 Swap을 할 필요가 없음 -> False 반환\n",
    "        if inserted_idx <= 1:\n",
    "            return False\n",
    "\n",
    "        # 부모 노드의 인덱스 = 자식 노드의 인덱스 // 2\n",
    "        parent_idx = inserted_idx // 2\n",
    "        # 자식 노드의 값이 부모 노드의 값보다 크다면 Swap이 필요 -> True 반환\n",
    "        if self.heap_array[inserted_idx] > self.heap_array[parent_idx]:\n",
    "            return True\n",
    "        # 자식 노드의 값이 부모 노드의 값과 같거나 작다면 Swap이 필요 없음 -> False 반환\n",
    "        else:\n",
    "            return False\n",
    "\n",
    "    def insert(self, data):\n",
    "        if len(self.heap_array) == 0:\n",
    "            self.heap_array.append(None)\n",
    "            self.heap_array.append(data)\n",
    "            return True\n",
    "\n",
    "        self.heap_array.append(data)\n",
    "\n",
    "        # 마지막으로 삽입한 데이터의 인덱스\n",
    "        inserted_idx = len(self.heap_array) - 1\n",
    "\n",
    "        # move_up의 반환 값에 따라 Data Swap을 반복\n",
    "        while self.move_up(inserted_idx):\n",
    "            # 부모 노드의 인덱스 = 자식 노드의 인덱스 // 2\n",
    "            parent_idx = inserted_idx // 2\n",
    "            # Data Swap : inserted_idx의 값과 parent_idx의 값을 바꿔줌\n",
    "            self.heap_array[inserted_idx], self.heap_array[parent_idx] = self.heap_array[parent_idx], self.heap_array[inserted_idx]\n",
    "            # 데이터 값이 바뀌었기 때문에 index 번호도 이전 부모의 인덱스로 바꿔줌\n",
    "            inserted_idx = parent_idx\n",
    "\n",
    "        return True"
   ]
  },
  {
   "cell_type": "code",
   "execution_count": 7,
   "metadata": {},
   "outputs": [
    {
     "data": {
      "text/plain": [
       "[None, 15, 10, 8, 5, 4]"
      ]
     },
     "execution_count": 7,
     "metadata": {},
     "output_type": "execute_result"
    }
   ],
   "source": [
    "heap = Heap(15)\n",
    "heap.insert(10)\n",
    "heap.insert(8)\n",
    "heap.insert(5)\n",
    "heap.insert(4)\n",
    "heap.heap_array"
   ]
  },
  {
   "cell_type": "code",
   "execution_count": 8,
   "metadata": {},
   "outputs": [
    {
     "data": {
      "text/plain": [
       "[None, 20, 10, 15, 5, 4, 8]"
      ]
     },
     "execution_count": 8,
     "metadata": {},
     "output_type": "execute_result"
    }
   ],
   "source": [
    "heap.insert(20)\n",
    "heap.heap_array"
   ]
  },
  {
   "cell_type": "markdown",
   "metadata": {},
   "source": [
    "## Heap 데이터 삭제 구현"
   ]
  },
  {
   "cell_type": "markdown",
   "metadata": {},
   "source": [
    "### Heap 데이터 삭제 - 기본 동작"
   ]
  },
  {
   "cell_type": "code",
   "execution_count": 9,
   "metadata": {},
   "outputs": [],
   "source": [
    "class Heap:\n",
    "    def __init__(self, data):\n",
    "        self.heap_array = list()\n",
    "        self.heap_array.append(None)\n",
    "        self.heap_array.append(data)\n",
    "\n",
    "    def pop(self):\n",
    "        if len(self.heap_array) <= 1:\n",
    "            return False\n",
    "\n",
    "        returned_data = self.heap_array[1]\n",
    "        return returned_data"
   ]
  },
  {
   "cell_type": "markdown",
   "metadata": {},
   "source": [
    "### Heap 데이터 삭제 후 Swap"
   ]
  },
  {
   "cell_type": "code",
   "execution_count": 10,
   "metadata": {},
   "outputs": [],
   "source": [
    "class Heap:\n",
    "    def __init__(self, data):\n",
    "        self.heap_array = list()\n",
    "        self.heap_array.append(None)\n",
    "        self.heap_array.append(data)\n",
    "\n",
    "    def move_up(self, inserted_idx):\n",
    "        if inserted_idx <= 1:\n",
    "            return False\n",
    "\n",
    "        parent_idx = inserted_idx // 2\n",
    "\n",
    "        if self.heap_array[inserted_idx] > self.heap_array[parent_idx]:\n",
    "            return True\n",
    "        else:\n",
    "            return False\n",
    "\n",
    "    def insert(self, data):\n",
    "        if len(self.heap_array) == 0:\n",
    "            self.heap_array.append(None)\n",
    "            self.heap_array.append(data)\n",
    "            return True\n",
    "\n",
    "        self.heap_array.append(data)\n",
    "        inserted_idx = len(self.heap_array) - 1\n",
    "\n",
    "        while self.move_up(inserted_idx):\n",
    "            parent_idx = inserted_idx // 2\n",
    "            self.heap_array[inserted_idx], self.heap_array[parent_idx] = self.heap_array[parent_idx], self.heap_array[inserted_idx]\n",
    "            inserted_idx = parent_idx\n",
    "\n",
    "        return True\n",
    "\n",
    "    # Swap이 필요한지 판단하는 함수\n",
    "    def move_down(self, popped_idx):\n",
    "        # 왼쪽 자식 노드의 인덱스 = 부모 노드의 인덱스 * 2\n",
    "        left_child_popped_idx = popped_idx * 2\n",
    "        # 오른쪽 자식 노드의 인덱스 = 부모 노드의 인덱스 * 2 + 1\n",
    "        right_child_popped_idx = popped_idx * 2 + 1\n",
    "\n",
    "        # Case1 : 자식 노드가 없을 때\n",
    "        # 왼쪽 자식 노드의 인덱스가 전체 길이보다 같거나 큰 경우는\n",
    "        # 왼쪽 자식 노드가 없다는 뜻과 같음\n",
    "        # 아무 것도 할 필요가 없음 -> False 반환\n",
    "        if left_child_popped_idx >= len(self.heap_array):\n",
    "            return False\n",
    "        # Case2 : 왼쪽 자식 노드만 있을 때\n",
    "        # 1번 케이스 조건과 같은 의미\n",
    "        elif right_child_popped_idx >= len(self.heap_array):\n",
    "            # 왼쪽 자식 노드의 값이 더 크다면 Swap이 필요 -> True 반환\n",
    "            if self.heap_array[popped_idx] < self.heap_array[left_child_popped_idx]:\n",
    "                return True\n",
    "            # 왼쪽 자식 노드의 값이 작거나 같다면 Swap이 필요 없음 -> False 반환\n",
    "            else:\n",
    "                return False\n",
    "        # Case3 : 왼쪽, 오른쪽 자식 노드가 다 있는 경우\n",
    "        # 먼저 자식 노드끼리 크기를 비교해야 함\n",
    "        else:\n",
    "            # 왼쪽 자식 노드의 값이 큰 경우\n",
    "            if self.heap_array[left_child_popped_idx] > self.heap_array[right_child_popped_idx]:\n",
    "                # 왼쪽 자식 노드의 값이 더 크다면 Swap이 필요 -> True 반환\n",
    "                if self.heap_array[popped_idx] < self.heap_array[left_child_popped_idx]:\n",
    "                    return True\n",
    "                # 왼쪽 자식 노드의 값이 작거나 같다면 Swap이 필요 없음 -> False 반환\n",
    "                else:\n",
    "                    return False\n",
    "            # 오른쪽 자식 노드의 값이 크거나 같은 경우\n",
    "            else:\n",
    "                # 오른쪽 자식 노드의 값이 더 크다면 Swap이 필요 -> True 반환\n",
    "                if self.heap_array[popped_idx] < self.heap_array[right_child_popped_idx]:\n",
    "                    return True\n",
    "                # 오른쪽 자식 노드의 값이 작거나 같다면 Swap이 필요 없음 -> False 반환\n",
    "                else:\n",
    "                    return False\n",
    "\n",
    "    def pop(self):\n",
    "        if len(self.heap_array) <= 1:\n",
    "            return False\n",
    "\n",
    "        # Root 노드의 값을 반환하는 변수에 할당\n",
    "        returned_data = self.heap_array[1]\n",
    "        # 가장 마지막 노드의 값을 Root 노드로 이동\n",
    "        self.heap_array[1] = self.heap_array[-1]\n",
    "        # 가장 마지막 노드의 값을 삭제\n",
    "        del self.heap_array[-1]\n",
    "        # Root 노드의 인덱스 값부터 시작\n",
    "        popped_idx = 1\n",
    "\n",
    "        # move_down 함수의 반환 값에 따라 Data Swap 반복\n",
    "        while self.move_down(popped_idx):\n",
    "            left_child_popped_idx = popped_idx * 2\n",
    "            right_child_popped_idx = popped_idx * 2 + 1\n",
    "\n",
    "            # move_down 함수의 Case2과 동일한 조건\n",
    "            if right_child_popped_idx >= len(self.heap_array):\n",
    "                # 왼쪽 자식 노드의 값이 더 크다면 Swap하고 popped_idx(부모 노드의 인덱스)를 변경\n",
    "                if self.heap_array[popped_idx] < self.heap_array[left_child_popped_idx]:\n",
    "                    self.heap_array[popped_idx], self.heap_array[left_child_popped_idx] = self.heap_array[left_child_popped_idx], self.heap_array[popped_idx]\n",
    "                    popped_idx = left_child_popped_idx\n",
    "            # move_down 함수의 Case3과 동일한 조건\n",
    "            else:\n",
    "                # 오른쪽 자식 노드의 값보다 왼쪽 자식 노드의 값이 큰 경우\n",
    "                if self.heap_array[left_child_popped_idx] > self.heap_array[right_child_popped_idx]:\n",
    "                    # 왼쪽 자식 노드의 값이 더 크다면 Swap하고 popped_idx(부모 노드의 인덱스)를 변경\n",
    "                    if self.heap_array[popped_idx] < self.heap_array[left_child_popped_idx]:\n",
    "                        self.heap_array[popped_idx], self.heap_array[left_child_popped_idx] = self.heap_array[left_child_popped_idx], self.heap_array[popped_idx]\n",
    "                        popped_idx = left_child_popped_idx\n",
    "                # 왼쪽 자식 노드의 값보다 오른쪽 자식 노드의 값이 큰 경우\n",
    "                else:\n",
    "                    # 오른쪽 자식 노드의 값이 더 크다면 Swap하고 popped_idx(부모 노드의 인덱스)를 변경\n",
    "                    if self.heap_array[popped_idx] < self.heap_array[right_child_popped_idx]:\n",
    "                        self.heap_array[popped_idx], self.heap_array[right_child_popped_idx] = self.heap_array[right_child_popped_idx], self.heap_array[popped_idx]\n",
    "                        popped_idx = right_child_popped_idx\n",
    "\n",
    "        return returned_data"
   ]
  },
  {
   "cell_type": "code",
   "execution_count": 11,
   "metadata": {},
   "outputs": [
    {
     "data": {
      "text/plain": [
       "[None, 20, 10, 15, 5, 4, 8]"
      ]
     },
     "execution_count": 11,
     "metadata": {},
     "output_type": "execute_result"
    }
   ],
   "source": [
    "heap = Heap(15)\n",
    "heap.insert(10)\n",
    "heap.insert(8)\n",
    "heap.insert(5)\n",
    "heap.insert(4)\n",
    "heap.insert(20)\n",
    "heap.heap_array"
   ]
  },
  {
   "cell_type": "code",
   "execution_count": 12,
   "metadata": {},
   "outputs": [
    {
     "data": {
      "text/plain": [
       "20"
      ]
     },
     "execution_count": 12,
     "metadata": {},
     "output_type": "execute_result"
    }
   ],
   "source": [
    "heap.pop()"
   ]
  },
  {
   "cell_type": "code",
   "execution_count": 13,
   "metadata": {},
   "outputs": [
    {
     "data": {
      "text/plain": [
       "[None, 15, 10, 8, 5, 4]"
      ]
     },
     "execution_count": 13,
     "metadata": {},
     "output_type": "execute_result"
    }
   ],
   "source": [
    "heap.heap_array"
   ]
  },
  {
   "cell_type": "markdown",
   "metadata": {},
   "source": [
    "## Heap 구현 전체 코드"
   ]
  },
  {
   "cell_type": "code",
   "execution_count": null,
   "metadata": {},
   "outputs": [],
   "source": [
    "class Heap:\n",
    "    def __init__(self, data):\n",
    "        self.heap_array = list()\n",
    "        self.heap_array.append(None)\n",
    "        self.heap_array.append(data)\n",
    "\n",
    "    def move_down(self, popped_idx):\n",
    "        left_child_popped_idx = popped_idx * 2\n",
    "        right_child_popped_idx = popped_idx * 2 + 1\n",
    "\n",
    "        if left_child_popped_idx >= len(self.heap_array):\n",
    "            return False\n",
    "        elif right_child_popped_idx >= len(self.heap_array):\n",
    "            if self.heap_array[popped_idx] < self.heap_array[left_child_popped_idx]:\n",
    "                return True\n",
    "            else:\n",
    "                return False\n",
    "        else:\n",
    "            if self.heap_array[left_child_popped_idx] > self.heap_array[right_child_popped_idx]:\n",
    "                if self.heap_array[popped_idx] < self.heap_array[left_child_popped_idx]:\n",
    "                    return True\n",
    "                else:\n",
    "                    return False\n",
    "            else:\n",
    "                if self.heap_array[popped_idx] < self.heap_array[right_child_popped_idx]:\n",
    "                    return True\n",
    "                else:\n",
    "                    return False\n",
    "\n",
    "    def pop(self):\n",
    "        if len(self.heap_array) <= 1:\n",
    "            return False\n",
    "\n",
    "        returned_data = self.heap_array[1]\n",
    "        self.heap_array[1] = self.heap_array[-1]\n",
    "        del self.heap_array[-1]\n",
    "        popped_idx = 1\n",
    "\n",
    "        while self.move_down(popped_idx):\n",
    "            left_child_popped_idx = popped_idx * 2\n",
    "            right_child_popped_idx = popped_idx * 2 + 1\n",
    "\n",
    "            if right_child_popped_idx >= len(self.heap_array):\n",
    "                if self.heap_array[popped_idx] < self.heap_array[left_child_popped_idx]:\n",
    "                    self.heap_array[popped_idx], self.heap_array[left_child_popped_idx] = self.heap_array[left_child_popped_idx], self.heap_array[popped_idx]\n",
    "                    popped_idx = left_child_popped_idx\n",
    "            else:\n",
    "                if self.heap_array[left_child_popped_idx] > self.heap_array[right_child_popped_idx]:\n",
    "                    if self.heap_array[popped_idx] < self.heap_array[left_child_popped_idx]:\n",
    "                        self.heap_array[popped_idx], self.heap_array[left_child_popped_idx] = self.heap_array[left_child_popped_idx], self.heap_array[popped_idx]\n",
    "                        popped_idx = left_child_popped_idx\n",
    "                else:\n",
    "                    if self.heap_array[popped_idx] < self.heap_array[right_child_popped_idx]:\n",
    "                        self.heap_array[popped_idx], self.heap_array[right_child_popped_idx] = self.heap_array[right_child_popped_idx], self.heap_array[popped_idx]\n",
    "                        popped_idx = right_child_popped_idx\n",
    "\n",
    "        return returned_data\n",
    "\n",
    "    def move_up(self, inserted_idx):\n",
    "        if inserted_idx <= 1:\n",
    "            return False\n",
    "\n",
    "        parent_idx = inserted_idx // 2\n",
    "\n",
    "        if self.heap_array[inserted_idx] > self.heap_array[parent_idx]:\n",
    "            return True\n",
    "        else:\n",
    "            return False\n",
    "\n",
    "    def insert(self, data):\n",
    "        if len(self.heap_array) == 0:\n",
    "            self.heap_array.append(None)\n",
    "            self.heap_array.append(data)\n",
    "            return True\n",
    "\n",
    "        self.heap_array.append(data)\n",
    "        inserted_idx = len(self.heap_array) - 1\n",
    "\n",
    "        while self.move_up(inserted_idx):\n",
    "            parent_idx = inserted_idx // 2\n",
    "            self.heap_array[inserted_idx], self.heap_array[parent_idx] = self.heap_array[parent_idx], self.heap_array[inserted_idx]\n",
    "            inserted_idx = parent_idx\n",
    "\n",
    "        return True"
   ]
  }
 ],
 "metadata": {
  "kernelspec": {
   "display_name": "algorithm",
   "language": "python",
   "name": "python3"
  },
  "language_info": {
   "codemirror_mode": {
    "name": "ipython",
    "version": 3
   },
   "file_extension": ".py",
   "mimetype": "text/x-python",
   "name": "python",
   "nbconvert_exporter": "python",
   "pygments_lexer": "ipython3",
   "version": "3.12.0"
  }
 },
 "nbformat": 4,
 "nbformat_minor": 2
}
